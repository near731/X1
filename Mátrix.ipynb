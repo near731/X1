{
  "nbformat": 4,
  "nbformat_minor": 0,
  "metadata": {
    "colab": {
      "name": "Mátrix.ipynb",
      "provenance": [],
      "collapsed_sections": [],
      "authorship_tag": "ABX9TyP7CC80TYQRl1YEAiNNXbA0",
      "include_colab_link": true
    },
    "kernelspec": {
      "name": "python3",
      "display_name": "Python 3"
    }
  },
  "cells": [
    {
      "cell_type": "markdown",
      "metadata": {
        "id": "view-in-github",
        "colab_type": "text"
      },
      "source": [
        "<a href=\"https://colab.research.google.com/github/near731/X1/blob/main/M%C3%A1trix.ipynb\" target=\"_parent\"><img src=\"https://colab.research.google.com/assets/colab-badge.svg\" alt=\"Open In Colab\"/></a>"
      ]
    },
    {
      "cell_type": "code",
      "metadata": {
        "colab": {
          "base_uri": "https://localhost:8080/"
        },
        "id": "Nm4sMSUuP39s",
        "outputId": "1e0c7f9c-0ed6-4316-896c-cef70678f92e"
      },
      "source": [
        "import numpy as np\n",
        "import scipy.linalg as la\n",
        "\n",
        "\n",
        "print(\"Mátrixművelet megoldó\")\n",
        "\n",
        "SA=int(input(\"Ird be A mátrix sorainak számát: \"))\n",
        "OA=int(input(\"Ird be A mátrix oszlopainak számát: \"))\n",
        "\n",
        "print(\"Ird be A matrixot: \")\n",
        "szamokA= list(map(int, input().split()))\n",
        "\n",
        "A=np.array(szamokA).reshape(SA, OA)\n",
        "print(A)\n",
        "\n",
        "SB=int(input(\"Ird be B mátrix sorainak számát: \"))\n",
        "OB=int(input(\"Ird be B mátrix oszlopainak számát: \"))\n",
        "\n",
        "print(\"Ird be B matrixot: \")\n",
        "szamokB= list(map(int, input().split()))\n",
        "\n",
        "B=np.array(szamokB).reshape(SB, OB)\n",
        "print(B)\n",
        "\n",
        "parancs=input(\"Milyen műveletet szeretnél?\")\n",
        "#A DETERMINÁNSA\n",
        "\n",
        "if parancs==\"det A\":\n",
        "  if (SA!=OA):\n",
        "    print(\"A nem kvadratikus!\")\n",
        "  else:\n",
        "    print(\"Az A mátrix determinánsa: \",la.det(A))\n",
        "\n",
        "elif parancs==\"det B\":\n",
        "  if (SB!=OB):\n",
        "    print(\"B nem kvadratikus!\")\n",
        "  else:\n",
        "    print(\"A B mátrix determinánsa: \",la.det(B))\n",
        "\n",
        "elif parancs==\"A@B\":\n",
        "  if (OA!=SB):\n",
        "   print(\"Nem egyezik meg az A mátrix oszlopainak száma B mátrix sorainak számával!\")\n",
        "  else:\n",
        "    print(\"A@B:\")\n",
        "    print(A@B)\n",
        "\n",
        "elif parancs==\"B@A\":\n",
        "  if (SA!=OB):\n",
        "   print(\"Nem egyezik meg az B mátrix oszlopainak száma A mátrix sorainak számával!\")\n",
        "  else:\n",
        "    print(\"B@A:\")\n",
        "    print(B@A)\n",
        "\n",
        "elif parancs==\"inv A\":\n",
        "  if (SA!=OA):\n",
        "   print(\"Nem egyezik meg a sorok és az oszlopok száma, igy nem lehet invertálni A mátrixot!\")\n",
        "  else:\n",
        "   if (la.det(A)==0):\n",
        "    print(\"Nem lehet a A mátrixot invertálni\")\n",
        "   else:\n",
        "    print(la.inv(A))\n",
        "\n",
        "if parancs=='inv B':\n",
        "  if (SB!=OB):\n",
        "   print(\"Nem egyezik meg a sorok és az oszlopok száma, igy nem lehet invertálni B mátrixot!\")\n",
        "\n",
        "  else:\n",
        "   if (la.det(B)==0):\n",
        "    print(\"Nem lehet a B mátrixot invertálni\")\n",
        "   \n",
        "   else:\n",
        "    print(la.inv(B))\n",
        "   \n",
        "\n",
        "if parancs==\"A+B\":\n",
        "   if (SA==SB & OA==OB):\n",
        "    result = [[A[i][j] + B[i][j]  for j in range(len(A[0]))] for i in range(len(A))]\n",
        "    for r in result:\n",
        "     print(r)\n",
        "    \n",
        "   else:\n",
        "     print(\"A két mátrixot nem lehet összeadni!\")\n",
        "    \n",
        "if parancs==\"csere\":\n",
        "   B=np.array(szamokA).reshape(SA, OA)\n",
        "   A=np.array(szamokB).reshape(SB, OB)\n",
        "   print(A,B)\n",
        "\n",
        "\n"
      ],
      "execution_count": null,
      "outputs": [
        {
          "output_type": "stream",
          "text": [
            "Mátrixművelet megoldó\n",
            "Ird be A mátrix sorainak számát: 1\n",
            "Ird be A mátrix oszlopainak számát: 1\n",
            "Ird be A matrixot: \n",
            "4\n",
            "[[4]]\n",
            "Ird be B mátrix sorainak számát: 1\n",
            "Ird be B mátrix oszlopainak számát: 2\n",
            "Ird be B matrixot: \n",
            "3 4\n",
            "[[3 4]]\n",
            "Milyen műveletet szeretnél?csere\n",
            "[[3 4]] [[4]]\n"
          ],
          "name": "stdout"
        }
      ]
    }
  ]
}