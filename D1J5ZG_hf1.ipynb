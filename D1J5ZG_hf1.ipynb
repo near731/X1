{
  "nbformat": 4,
  "nbformat_minor": 0,
  "metadata": {
    "colab": {
      "name": "D1J5ZG_hf1.ipynb",
      "provenance": [],
      "collapsed_sections": []
    },
    "kernelspec": {
      "name": "python3",
      "display_name": "Python 3"
    }
  },
  "cells": [
    {
      "cell_type": "markdown",
      "metadata": {
        "id": "gxAFnuhr47RM"
      },
      "source": [
        "1.feladat:"
      ]
    },
    {
      "cell_type": "markdown",
      "metadata": {
        "id": "WX8U83AshRAF"
      },
      "source": [
        ""
      ]
    },
    {
      "cell_type": "code",
      "metadata": {
        "colab": {
          "base_uri": "https://localhost:8080/"
        },
        "id": "JdRaY8ng5EZ_",
        "outputId": "7407c167-8f76-4985-b5da-1bb2ec1a2ca0"
      },
      "source": [
        "szam=20\r\n",
        "while 48> szam :\r\n",
        " print(szam)\r\n",
        " szam+=2"
      ],
      "execution_count": null,
      "outputs": [
        {
          "output_type": "stream",
          "text": [
            "20\n",
            "22\n",
            "24\n",
            "26\n",
            "28\n",
            "30\n",
            "32\n",
            "34\n",
            "36\n",
            "38\n",
            "40\n",
            "42\n",
            "44\n",
            "46\n"
          ],
          "name": "stdout"
        }
      ]
    },
    {
      "cell_type": "markdown",
      "metadata": {
        "id": "r84c3ab-6P_S"
      },
      "source": [
        "2.feladat:"
      ]
    },
    {
      "cell_type": "markdown",
      "metadata": {
        "id": "cLZCqa_v6R_J"
      },
      "source": [
        "\r\n"
      ]
    },
    {
      "cell_type": "code",
      "metadata": {
        "colab": {
          "base_uri": "https://localhost:8080/"
        },
        "id": "XAwCAae6LyET",
        "outputId": "161ac7d6-335c-4f87-fd36-1838dc9588a8"
      },
      "source": [
        "for num in range(1,31) :\r\n",
        "  if num>1:\r\n",
        "    for i in range(2, num) :\r\n",
        "      if (num%i)==0:\r\n",
        "        break\r\n",
        "    else:\r\n",
        "        print(num)\r\n",
        "\r\n",
        "  \r\n",
        "\r\n",
        "  \r\n",
        "  "
      ],
      "execution_count": null,
      "outputs": [
        {
          "output_type": "stream",
          "text": [
            "2\n",
            "3\n",
            "5\n",
            "7\n",
            "11\n",
            "13\n",
            "17\n",
            "19\n",
            "23\n",
            "29\n"
          ],
          "name": "stdout"
        }
      ]
    },
    {
      "cell_type": "markdown",
      "metadata": {
        "id": "i1nvMGS786Bf"
      },
      "source": [
        "3.feladat"
      ]
    },
    {
      "cell_type": "code",
      "metadata": {
        "colab": {
          "base_uri": "https://localhost:8080/"
        },
        "id": "vWnBWyrq9Att",
        "outputId": "42ad2a8c-9ef5-4155-de96-56c203f8fc99"
      },
      "source": [
        "\r\n",
        "print(\"Irj be egy szamot: \")\r\n",
        "szam=int(input())\r\n",
        "if (szam>0):\r\n",
        "  print(\"A szam pozitiv\")\r\n",
        "elif (0>szam):\r\n",
        "  print(\"A szam negativ\")\r\n",
        "elif (szam==0):\r\n",
        "  print(\"A szam 0\")\r\n",
        "\r\n"
      ],
      "execution_count": null,
      "outputs": [
        {
          "output_type": "stream",
          "text": [
            "Irj be egy szamot: \n",
            "12\n",
            "A szam pozitiv\n"
          ],
          "name": "stdout"
        }
      ]
    },
    {
      "cell_type": "markdown",
      "metadata": {
        "id": "j9ME3pxXHPaM"
      },
      "source": [
        "4.feladat"
      ]
    },
    {
      "cell_type": "code",
      "metadata": {
        "id": "ZBqXB1CtHQvm",
        "colab": {
          "base_uri": "https://localhost:8080/"
        },
        "outputId": "f4b13790-3330-41e5-8191-af7c2bf32ce0"
      },
      "source": [
        "def atlag(tomb):\r\n",
        "  return sum(tomb)/len(tomb)\r\n",
        "\r\n",
        "tomb=[1,3,4,7,11]\r\n",
        "Atlag=atlag(tomb)\r\n",
        "\r\n",
        "print(\"Az tomb atlaga: \",Atlag)\r\n",
        "\r\n"
      ],
      "execution_count": 1,
      "outputs": [
        {
          "output_type": "stream",
          "text": [
            "Az tomb atlaga:  5.2\n"
          ],
          "name": "stdout"
        }
      ]
    },
    {
      "cell_type": "markdown",
      "metadata": {
        "id": "V9pe-Z0h4_iD"
      },
      "source": [
        "5.feladat"
      ]
    },
    {
      "cell_type": "code",
      "metadata": {
        "colab": {
          "base_uri": "https://localhost:8080/"
        },
        "id": "G0Mal-tXhwmS",
        "outputId": "e8b5b962-5c6f-4d9f-b445-5b2b67b60354"
      },
      "source": [
        "tomb=[1,9,7,4,6,87,67]\r\n",
        "for i in range(len(tomb)):\r\n",
        "  print(tomb)\r\n"
      ],
      "execution_count": 2,
      "outputs": [
        {
          "output_type": "stream",
          "text": [
            "[1, 9, 7, 4, 6, 87, 67]\n",
            "[1, 9, 7, 4, 6, 87, 67]\n",
            "[1, 9, 7, 4, 6, 87, 67]\n",
            "[1, 9, 7, 4, 6, 87, 67]\n",
            "[1, 9, 7, 4, 6, 87, 67]\n",
            "[1, 9, 7, 4, 6, 87, 67]\n",
            "[1, 9, 7, 4, 6, 87, 67]\n"
          ],
          "name": "stdout"
        }
      ]
    },
    {
      "cell_type": "markdown",
      "metadata": {
        "id": "GYVBlMgyZqtH"
      },
      "source": [
        "Készitette: Németh Áron Imre (D1J5ZG)"
      ]
    }
  ]
}